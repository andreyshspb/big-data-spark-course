{
 "cells": [
  {
   "cell_type": "code",
   "execution_count": 27,
   "id": "26a11f83",
   "metadata": {},
   "outputs": [],
   "source": [
    "import pyspark\n",
    "from pyspark import SparkContext, SparkConf"
   ]
  },
  {
   "cell_type": "code",
   "execution_count": 3,
   "id": "a399e072-33e2-40c3-8e6a-60a5504eed66",
   "metadata": {},
   "outputs": [
    {
     "name": "stdout",
     "output_type": "stream",
     "text": [
      "Safe mode is OFF\n"
     ]
    }
   ],
   "source": [
    "!hdfs dfsadmin -safemode leave"
   ]
  },
  {
   "cell_type": "code",
   "execution_count": 4,
   "id": "9b95ebdb-11ee-4c57-a2c8-0be5e38bd2b4",
   "metadata": {},
   "outputs": [],
   "source": [
    "conf = SparkConf().set(\"spark.executor.instances\", \"2\").set(\"spark.executor.cores\", \"1\").set(\"spark.executor.memory\", \"1g\")"
   ]
  },
  {
   "cell_type": "code",
   "execution_count": 5,
   "id": "4d1dbd14",
   "metadata": {
    "scrolled": true
   },
   "outputs": [
    {
     "name": "stderr",
     "output_type": "stream",
     "text": [
      "Setting default log level to \"WARN\".\n",
      "To adjust logging level use sc.setLogLevel(newLevel). For SparkR, use setLogLevel(newLevel).\n",
      "23/12/20 22:52:36 WARN Client: Neither spark.yarn.jars nor spark.yarn.archive is set, falling back to uploading libraries under SPARK_HOME.\n"
     ]
    }
   ],
   "source": [
    "sc = SparkContext(appName=\"shein_spark\", master=\"yarn\")"
   ]
  },
  {
   "cell_type": "code",
   "execution_count": 28,
   "id": "679c78bd-1fcb-4f89-a558-203e808be074",
   "metadata": {},
   "outputs": [
    {
     "name": "stdout",
     "output_type": "stream",
     "text": [
      "Deleted ml-latest-small\n"
     ]
    }
   ],
   "source": [
    "!hdfs dfs -rm -r ml-latest-small\n",
    "!hdfs dfs -put ml-latest-small ."
   ]
  },
  {
   "cell_type": "code",
   "execution_count": 29,
   "id": "8ad97d65",
   "metadata": {},
   "outputs": [],
   "source": [
    "rdd_ratings = sc.textFile(\"ml-latest-small/ratings.csv\")"
   ]
  },
  {
   "cell_type": "code",
   "execution_count": 30,
   "id": "34a978bc-58d5-4253-bdfa-e7bff6c5c50c",
   "metadata": {},
   "outputs": [
    {
     "data": {
      "text/plain": [
       "100837"
      ]
     },
     "execution_count": 30,
     "metadata": {},
     "output_type": "execute_result"
    }
   ],
   "source": [
    "rdd_ratings.count()"
   ]
  },
  {
   "cell_type": "code",
   "execution_count": 31,
   "id": "4ecb99ff-5301-4b71-8d1f-6f475c3efc50",
   "metadata": {},
   "outputs": [
    {
     "data": {
      "text/plain": [
       "2"
      ]
     },
     "execution_count": 31,
     "metadata": {},
     "output_type": "execute_result"
    }
   ],
   "source": [
    "rdd_ratings.getNumPartitions()"
   ]
  },
  {
   "cell_type": "markdown",
   "id": "de9aa92b-4d7c-4a38-b23d-de3e4a236a90",
   "metadata": {},
   "source": [
    "### Вывод\n",
    "Был выполнен один stage и две таски"
   ]
  },
  {
   "cell_type": "code",
   "execution_count": 32,
   "id": "709ecf42-62d4-45d3-9737-781813297b3d",
   "metadata": {},
   "outputs": [],
   "source": [
    "rdd_tags = sc.textFile(\"ml-latest-small/tags.csv\")"
   ]
  },
  {
   "cell_type": "code",
   "execution_count": 33,
   "id": "9b4deae1-7cdc-4272-90b5-294d0ae564b2",
   "metadata": {},
   "outputs": [
    {
     "data": {
      "text/plain": [
       "3684"
      ]
     },
     "execution_count": 33,
     "metadata": {},
     "output_type": "execute_result"
    }
   ],
   "source": [
    "rdd_tags.count()"
   ]
  },
  {
   "cell_type": "code",
   "execution_count": 34,
   "id": "afccc386-f7ac-4099-8958-305b9eb22a7a",
   "metadata": {},
   "outputs": [
    {
     "data": {
      "text/plain": [
       "2"
      ]
     },
     "execution_count": 34,
     "metadata": {},
     "output_type": "execute_result"
    }
   ],
   "source": [
    "rdd_tags.getNumPartitions()"
   ]
  },
  {
   "cell_type": "markdown",
   "id": "e8569a7a-a74c-4288-96a0-aca3502c0151",
   "metadata": {},
   "source": [
    "### Вывод\n",
    "Был выполнен один stage и две таски"
   ]
  }
 ],
 "metadata": {
  "kernelspec": {
   "display_name": "Python 3 (ipykernel)",
   "language": "python",
   "name": "python3"
  },
  "language_info": {
   "codemirror_mode": {
    "name": "ipython",
    "version": 3
   },
   "file_extension": ".py",
   "mimetype": "text/x-python",
   "name": "python",
   "nbconvert_exporter": "python",
   "pygments_lexer": "ipython3",
   "version": "3.10.12"
  }
 },
 "nbformat": 4,
 "nbformat_minor": 5
}
