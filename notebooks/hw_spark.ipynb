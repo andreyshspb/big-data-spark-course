{
 "cells": [
  {
   "cell_type": "code",
   "execution_count": 27,
   "id": "26a11f83",
   "metadata": {},
   "outputs": [],
   "source": [
    "import pyspark\n",
    "from pyspark import SparkContext, SparkConf"
   ]
  },
  {
   "cell_type": "code",
   "execution_count": 3,
   "id": "a399e072-33e2-40c3-8e6a-60a5504eed66",
   "metadata": {},
   "outputs": [
    {
     "name": "stdout",
     "output_type": "stream",
     "text": [
      "Safe mode is OFF\n"
     ]
    }
   ],
   "source": [
    "!hdfs dfsadmin -safemode leave"
   ]
  },
  {
   "cell_type": "code",
   "execution_count": 4,
   "id": "9b95ebdb-11ee-4c57-a2c8-0be5e38bd2b4",
   "metadata": {},
   "outputs": [],
   "source": [
    "conf = SparkConf().set(\"spark.executor.instances\", \"2\").set(\"spark.executor.cores\", \"1\").set(\"spark.executor.memory\", \"1g\")"
   ]
  },
  {
   "cell_type": "code",
   "execution_count": 5,
   "id": "4d1dbd14",
   "metadata": {
    "scrolled": true
   },
   "outputs": [
    {
     "name": "stderr",
     "output_type": "stream",
     "text": [
      "Setting default log level to \"WARN\".\n",
      "To adjust logging level use sc.setLogLevel(newLevel). For SparkR, use setLogLevel(newLevel).\n",
      "23/12/20 22:52:36 WARN Client: Neither spark.yarn.jars nor spark.yarn.archive is set, falling back to uploading libraries under SPARK_HOME.\n"
     ]
    }
   ],
   "source": [
    "sc = SparkContext(appName=\"shein_spark\", master=\"yarn\")"
   ]
  },
  {
   "cell_type": "code",
   "execution_count": 28,
   "id": "679c78bd-1fcb-4f89-a558-203e808be074",
   "metadata": {},
   "outputs": [
    {
     "name": "stdout",
     "output_type": "stream",
     "text": [
      "Deleted ml-latest-small\n"
     ]
    }
   ],
   "source": [
    "!hdfs dfs -rm -r ml-latest-small\n",
    "!hdfs dfs -put ml-latest-small ."
   ]
  },
  {
   "cell_type": "code",
   "execution_count": 29,
   "id": "8ad97d65",
   "metadata": {},
   "outputs": [],
   "source": [
    "rdd_ratings = sc.textFile(\"ml-latest-small/ratings.csv\")"
   ]
  },
  {
   "cell_type": "code",
   "execution_count": 30,
   "id": "34a978bc-58d5-4253-bdfa-e7bff6c5c50c",
   "metadata": {},
   "outputs": [
    {
     "data": {
      "text/plain": [
       "100837"
      ]
     },
     "execution_count": 30,
     "metadata": {},
     "output_type": "execute_result"
    }
   ],
   "source": [
    "rdd_ratings.count()"
   ]
  },
  {
   "cell_type": "code",
   "execution_count": 31,
   "id": "4ecb99ff-5301-4b71-8d1f-6f475c3efc50",
   "metadata": {},
   "outputs": [
    {
     "data": {
      "text/plain": [
       "2"
      ]
     },
     "execution_count": 31,
     "metadata": {},
     "output_type": "execute_result"
    }
   ],
   "source": [
    "rdd_ratings.getNumPartitions()"
   ]
  },
  {
   "cell_type": "markdown",
   "id": "de9aa92b-4d7c-4a38-b23d-de3e4a236a90",
   "metadata": {},
   "source": [
    "### Вывод\n",
    "Был выполнен один stage и две таски"
   ]
  },
  {
   "cell_type": "code",
   "execution_count": 32,
   "id": "709ecf42-62d4-45d3-9737-781813297b3d",
   "metadata": {},
   "outputs": [],
   "source": [
    "rdd_tags = sc.textFile(\"ml-latest-small/tags.csv\")"
   ]
  },
  {
   "cell_type": "code",
   "execution_count": 33,
   "id": "9b4deae1-7cdc-4272-90b5-294d0ae564b2",
   "metadata": {},
   "outputs": [
    {
     "data": {
      "text/plain": [
       "3684"
      ]
     },
     "execution_count": 33,
     "metadata": {},
     "output_type": "execute_result"
    }
   ],
   "source": [
    "rdd_tags.count()"
   ]
  },
  {
   "cell_type": "code",
   "execution_count": 34,
   "id": "afccc386-f7ac-4099-8958-305b9eb22a7a",
   "metadata": {},
   "outputs": [
    {
     "data": {
      "text/plain": [
       "2"
      ]
     },
     "execution_count": 34,
     "metadata": {},
     "output_type": "execute_result"
    }
   ],
   "source": [
    "rdd_tags.getNumPartitions()"
   ]
  },
  {
   "cell_type": "markdown",
   "id": "e8569a7a-a74c-4288-96a0-aca3502c0151",
   "metadata": {},
   "source": [
    "### Вывод\n",
    "Был выполнен один stage и две таски"
   ]
  },
  {
   "cell_type": "markdown",
   "id": "6a4523d7-ca89-4f3d-bb5d-1720f33f6213",
   "metadata": {},
   "source": [
    "# Вторая часть"
   ]
  },
  {
   "cell_type": "code",
   "execution_count": 47,
   "id": "d1fba459-9a71-41f6-9341-59d813f94c6c",
   "metadata": {},
   "outputs": [],
   "source": [
    "from pyspark.sql import SparkSession\n",
    "from pyspark.sql.types import *\n",
    "import pyspark.sql.functions as f"
   ]
  },
  {
   "cell_type": "code",
   "execution_count": 37,
   "id": "f57eeea9-438b-4125-afbf-06c888a1b73e",
   "metadata": {},
   "outputs": [],
   "source": [
    "spark = SparkSession.builder.master(\"yarn\").appName(\"pyspark_sql_api\").getOrCreate()"
   ]
  },
  {
   "cell_type": "code",
   "execution_count": 39,
   "id": "242fa5f4-529a-48c0-90b0-a81b13554784",
   "metadata": {},
   "outputs": [],
   "source": [
    "ratings_schema = StructType(fields=[\n",
    "    StructField(\"userId\", IntegerType()),\n",
    "    StructField(\"movieId\", IntegerType()),\n",
    "    StructField(\"rating\", DoubleType()),\n",
    "    StructField(\"timestamp\", LongType()),\n",
    "])"
   ]
  },
  {
   "cell_type": "code",
   "execution_count": 40,
   "id": "7a96d6f5-a25f-43c6-9056-15d2471952cd",
   "metadata": {},
   "outputs": [],
   "source": [
    "ratings = spark.read.format(\"csv\").option(\"header\", \"True\").schema(ratings_schema).load(\"ml-latest-small/ratings.csv\")"
   ]
  },
  {
   "cell_type": "code",
   "execution_count": 59,
   "id": "01f02732-86b4-438a-bebc-c8b000eb8e49",
   "metadata": {},
   "outputs": [
    {
     "data": {
      "text/plain": [
       "9724"
      ]
     },
     "execution_count": 59,
     "metadata": {},
     "output_type": "execute_result"
    }
   ],
   "source": [
    "# количество уникальных фильмов\n",
    "ratings.groupBy(f.col(\"movieId\")).count().count()"
   ]
  },
  {
   "cell_type": "code",
   "execution_count": 58,
   "id": "0b0db5c0-8769-4644-b86c-aae1568ea537",
   "metadata": {},
   "outputs": [
    {
     "data": {
      "text/plain": [
       "610"
      ]
     },
     "execution_count": 58,
     "metadata": {},
     "output_type": "execute_result"
    }
   ],
   "source": [
    "# количество уникальных пользователей \n",
    "ratings.groupBy(f.col(\"userId\")).count().count()"
   ]
  },
  {
   "cell_type": "code",
   "execution_count": 54,
   "id": "42a3b03e-b28a-4802-bfb3-597beafedc0e",
   "metadata": {},
   "outputs": [
    {
     "data": {
      "text/plain": [
       "48580"
      ]
     },
     "execution_count": 54,
     "metadata": {},
     "output_type": "execute_result"
    }
   ],
   "source": [
    "# оценок не меньших 4.0\n",
    "ratings.filter(f.col(\"rating\") >= 4.0).count()"
   ]
  },
  {
   "cell_type": "code",
   "execution_count": 74,
   "id": "69106d14-55bd-4bcd-8eef-be92d296348c",
   "metadata": {},
   "outputs": [
    {
     "name": "stdout",
     "output_type": "stream",
     "text": [
      "+-------+-----------+\n",
      "|movieId|avg(rating)|\n",
      "+-------+-----------+\n",
      "|  80124|        5.0|\n",
      "|  74226|        5.0|\n",
      "| 175387|        5.0|\n",
      "|    148|        5.0|\n",
      "| 158027|        5.0|\n",
      "|  67618|        5.0|\n",
      "|  42556|        5.0|\n",
      "| 142444|        5.0|\n",
      "|  44943|        5.0|\n",
      "|  27523|        5.0|\n",
      "| 113829|        5.0|\n",
      "|   3073|        5.0|\n",
      "| 152711|        5.0|\n",
      "| 132333|        5.0|\n",
      "|     53|        5.0|\n",
      "|  27704|        5.0|\n",
      "| 147300|        5.0|\n",
      "| 187717|        5.0|\n",
      "|    633|        5.0|\n",
      "|   8238|        5.0|\n",
      "|    876|        5.0|\n",
      "| 120138|        5.0|\n",
      "|  53578|        5.0|\n",
      "| 163072|        5.0|\n",
      "| 160644|        5.0|\n",
      "| 172909|        5.0|\n",
      "|   5490|        5.0|\n",
      "| 172583|        5.0|\n",
      "|   2972|        5.0|\n",
      "|   2196|        5.0|\n",
      "|  25887|        5.0|\n",
      "| 118834|        5.0|\n",
      "|   3795|        5.0|\n",
      "| 156025|        5.0|\n",
      "|   3941|        5.0|\n",
      "| 120130|        5.0|\n",
      "|    626|        5.0|\n",
      "|   1349|        5.0|\n",
      "|  26928|        5.0|\n",
      "| 122092|        5.0|\n",
      "|  40491|        5.0|\n",
      "|  71268|        5.0|\n",
      "| 167064|        5.0|\n",
      "|  99636|        5.0|\n",
      "|  25906|        5.0|\n",
      "|   6086|        5.0|\n",
      "| 141928|        5.0|\n",
      "|  47736|        5.0|\n",
      "|   6201|        5.0|\n",
      "| 164367|        5.0|\n",
      "|   3792|        5.0|\n",
      "| 172589|        5.0|\n",
      "| 146684|        5.0|\n",
      "|   3473|        5.0|\n",
      "| 172793|        5.0|\n",
      "|  50999|        5.0|\n",
      "| 136469|        5.0|\n",
      "| 141718|        5.0|\n",
      "| 124851|        5.0|\n",
      "|  85295|        5.0|\n",
      "|   4788|        5.0|\n",
      "| 173619|        5.0|\n",
      "|   6835|        5.0|\n",
      "|   2824|        5.0|\n",
      "|    496|        5.0|\n",
      "|  26147|        5.0|\n",
      "| 157775|        5.0|\n",
      "|   4454|        5.0|\n",
      "|  44851|        5.0|\n",
      "| 104780|        5.0|\n",
      "| 149566|        5.0|\n",
      "|   7096|        5.0|\n",
      "| 109241|        5.0|\n",
      "| 131724|        5.0|\n",
      "|   3567|        5.0|\n",
      "|  69211|        5.0|\n",
      "| 136834|        5.0|\n",
      "| 163925|        5.0|\n",
      "|   3940|        5.0|\n",
      "| 173355|        5.0|\n",
      "|  91386|        5.0|\n",
      "|   7815|        5.0|\n",
      "|   5513|        5.0|\n",
      "| 115727|        5.0|\n",
      "|  84273|        5.0|\n",
      "| 172705|        5.0|\n",
      "|  27373|        5.0|\n",
      "| 109633|        5.0|\n",
      "| 114265|        5.0|\n",
      "| 172875|        5.0|\n",
      "| 163112|        5.0|\n",
      "| 159811|        5.0|\n",
      "|  94810|        5.0|\n",
      "| 147286|        5.0|\n",
      "|  53355|        5.0|\n",
      "|   7122|        5.0|\n",
      "|  69860|        5.0|\n",
      "|  79897|        5.0|\n",
      "|  83969|        5.0|\n",
      "|  95311|        5.0|\n",
      "+-------+-----------+\n",
      "only showing top 100 rows\n",
      "\n"
     ]
    }
   ],
   "source": [
    "# топ-100 фильмов по рейтингу\n",
    "ratings.groupBy(f.col(\"movieId\")).avg(\"rating\").orderBy(\"avg(rating)\", ascending=False).show(100)"
   ]
  },
  {
   "cell_type": "code",
   "execution_count": 79,
   "id": "4b8ad4b6-d3ae-4047-a51c-e618bae2b5d0",
   "metadata": {},
   "outputs": [],
   "source": [
    "tags_schema = StructType(fields=[\n",
    "    StructField(\"userId\", IntegerType()),\n",
    "    StructField(\"movieId\", IntegerType()),\n",
    "    StructField(\"tag\", StringType()),\n",
    "    StructField(\"timestamp\", LongType()),\n",
    "])"
   ]
  },
  {
   "cell_type": "code",
   "execution_count": 80,
   "id": "e1d75315-eadc-4c57-a998-42faafad71f6",
   "metadata": {},
   "outputs": [],
   "source": [
    "tags = spark.read.format(\"csv\").option(\"header\", \"True\").schema(tags_schema).load(\"ml-latest-small/tags.csv\")"
   ]
  },
  {
   "cell_type": "code",
   "execution_count": 102,
   "id": "61ff8b6c-25b7-4c68-afe8-0534a8c4741d",
   "metadata": {},
   "outputs": [
    {
     "name": "stdout",
     "output_type": "stream",
     "text": [
      "+--------------------+\n",
      "|          avg(delta)|\n",
      "+--------------------+\n",
      "|2.6243727372266974E7|\n",
      "+--------------------+\n",
      "\n"
     ]
    }
   ],
   "source": [
    "# средняя дельта по времени\n",
    "ratings_with_tags = ratings.alias(\"r\").join(tags.alias(\"t\"), on=[\"userId\", \"movieId\"], how=\"inner\")\n",
    "deltas = ratings_with_tags.select((f.col(\"t.timestamp\") - f.col(\"r.timestamp\")).alias(\"delta\"))\n",
    "deltas.select(f.avg(f.col(\"delta\"))).show()"
   ]
  },
  {
   "cell_type": "code",
   "execution_count": 99,
   "id": "8e9ee79a-76c2-4ff9-ad13-39e6590e29cd",
   "metadata": {},
   "outputs": [
    {
     "name": "stdout",
     "output_type": "stream",
     "text": [
      "+------------------+\n",
      "|  avg(avg(rating))|\n",
      "+------------------+\n",
      "|3.6572223377474016|\n",
      "+------------------+\n",
      "\n"
     ]
    }
   ],
   "source": [
    "# Средняя от средних оценок пользователей\n",
    "avgs = ratings.groupBy(f.col(\"userId\")).avg(\"rating\")\n",
    "avgs.select(f.avg(f.col(\"avg(rating)\"))).show()"
   ]
  },
  {
   "cell_type": "code",
   "execution_count": null,
   "id": "44271efb-95b2-4495-81f2-e4780909e1a1",
   "metadata": {},
   "outputs": [],
   "source": []
  }
 ],
 "metadata": {
  "kernelspec": {
   "display_name": "Python 3 (ipykernel)",
   "language": "python",
   "name": "python3"
  },
  "language_info": {
   "codemirror_mode": {
    "name": "ipython",
    "version": 3
   },
   "file_extension": ".py",
   "mimetype": "text/x-python",
   "name": "python",
   "nbconvert_exporter": "python",
   "pygments_lexer": "ipython3",
   "version": "3.10.12"
  }
 },
 "nbformat": 4,
 "nbformat_minor": 5
}
